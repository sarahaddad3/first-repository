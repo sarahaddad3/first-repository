{
 "cells": [
  {
   "cell_type": "markdown",
   "id": "b0fb458f-f19c-4e4c-b9d3-3f96deabaf2d",
   "metadata": {},
   "source": [
    "# Data Science Tools and Ecosystem"
   ]
  },
  {
   "cell_type": "markdown",
   "id": "48bcb232-5b8d-435e-b2b0-4c61c77a38c7",
   "metadata": {},
   "source": [
    "In this notebook, Data Science Tools and Ecosystem are summarized."
   ]
  },
  {
   "cell_type": "markdown",
   "id": "2680bf6e-1573-409e-823e-424c67bae774",
   "metadata": {},
   "source": [
    "**Objectives:**\n",
    "- List popular languages used in Data Science\n",
    "- Identify commonly used libraries and tools in Data Science\n",
    "- Perform basic arithmetic operations in Python\n",
    "- Convert values (e.g., minutes to hours) using code"
   ]
  },
  {
   "cell_type": "markdown",
   "id": "5d7686ca-ce4a-4a85-9374-6c9279ad3544",
   "metadata": {},
   "source": [
    "## Author\n",
    "Sara Haddad"
   ]
  },
  {
   "cell_type": "markdown",
   "id": "33d9a444-988f-4d4b-95d6-0d8600015f35",
   "metadata": {},
   "source": [
    "Some of the popular languages that Data Scientists use are:\n",
    "1. Python\n",
    "2. SQL\n",
    "3. R"
   ]
  },
  {
   "cell_type": "markdown",
   "id": "7cb5fa56-6ec7-4aa0-aa83-e24069710007",
   "metadata": {},
   "source": [
    "Some of the commonly used libraries used by Data Scientists include:\n",
    "1. Pandas\n",
    "2. Numpy\n",
    "3. Matplotlib\n",
    "4. ggplot2\n",
    "5. caret"
   ]
  },
  {
   "cell_type": "markdown",
   "id": "0c3fc250-987b-4162-a816-732788b553a8",
   "metadata": {},
   "source": [
    "| Data Science Tools |\n",
    "| ------------------ |\n",
    "| Jupyter Notebook |\n",
    "| Rstudio |\n",
    "| Visual Studio Code |"
   ]
  },
  {
   "cell_type": "markdown",
   "id": "8b6164a0-cdbe-4ade-a437-0d5b9cee2438",
   "metadata": {},
   "source": [
    "### Below are a few examples of evaluating arithmetic expressions in Python"
   ]
  },
  {
   "cell_type": "code",
   "execution_count": 1,
   "id": "513c7e7f-e990-4c4f-8c1e-3b52186a31ee",
   "metadata": {},
   "outputs": [
    {
     "data": {
      "text/plain": [
       "17"
      ]
     },
     "execution_count": 1,
     "metadata": {},
     "output_type": "execute_result"
    }
   ],
   "source": [
    "# This a simple arithmetic expression to mutiply then add integers\n",
    "(3*4)+5"
   ]
  },
  {
   "cell_type": "code",
   "execution_count": 2,
   "id": "4a9c5cb8-5125-4b1e-af33-b58cd29be3a7",
   "metadata": {},
   "outputs": [
    {
     "data": {
      "text/plain": [
       "3.3333333333333335"
      ]
     },
     "execution_count": 2,
     "metadata": {},
     "output_type": "execute_result"
    }
   ],
   "source": [
    "# This will convert 200 minutes to hours by diving by 60\n",
    "200 / 60"
   ]
  },
  {
   "cell_type": "code",
   "execution_count": null,
   "id": "feb6066d-4e19-4156-9d64-714bc2a4f4c9",
   "metadata": {},
   "outputs": [],
   "source": []
  }
 ],
 "metadata": {
  "kernelspec": {
   "display_name": "Python 3 (ipykernel)",
   "language": "python",
   "name": "python3"
  },
  "language_info": {
   "codemirror_mode": {
    "name": "ipython",
    "version": 3
   },
   "file_extension": ".py",
   "mimetype": "text/x-python",
   "name": "python",
   "nbconvert_exporter": "python",
   "pygments_lexer": "ipython3",
   "version": "3.12.8"
  }
 },
 "nbformat": 4,
 "nbformat_minor": 5
}
